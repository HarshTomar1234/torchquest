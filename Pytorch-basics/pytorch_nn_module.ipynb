{
  "nbformat": 4,
  "nbformat_minor": 0,
  "metadata": {
    "colab": {
      "provenance": []
    },
    "kernelspec": {
      "name": "python3",
      "display_name": "Python 3"
    },
    "language_info": {
      "name": "python"
    }
  },
  "cells": [
    {
      "cell_type": "code",
      "source": [
        "# create model class\n",
        "import torch\n",
        "import torch.nn as nn\n",
        "\n",
        "class Model(nn.Module):\n",
        "\n",
        "  def __init__(self, num_features):\n",
        "\n",
        "    super().__init__()\n",
        "    self.network = nn.Sequential(\n",
        "        nn.Linear(num_features, 3),\n",
        "        nn.ReLU(),\n",
        "        nn.Linear(3, 1),\n",
        "        nn.Sigmoid()\n",
        "    )\n",
        "\n",
        "  def forward(self, features):\n",
        "\n",
        "    out = self.network(features)\n",
        "\n",
        "\n",
        "    return out"
      ],
      "metadata": {
        "id": "oJvxf-ftpdEy"
      },
      "execution_count": 26,
      "outputs": []
    },
    {
      "cell_type": "code",
      "source": [
        "# create dataset\n",
        "features = torch.rand(10,5) # 10 rows and 5 cols\n",
        "\n",
        "# create model\n",
        "model = Model(features.shape[1])\n",
        "\n",
        "# call model for forward pass\n",
        "# model.forward(features)\n",
        "model(features)"
      ],
      "metadata": {
        "id": "I_Tbf5p6sQQI",
        "colab": {
          "base_uri": "https://localhost:8080/"
        },
        "outputId": "24bc15d3-e1cd-40cc-bb0e-8461d8de6c86"
      },
      "execution_count": 27,
      "outputs": [
        {
          "output_type": "execute_result",
          "data": {
            "text/plain": [
              "tensor([[0.5208],\n",
              "        [0.5285],\n",
              "        [0.5183],\n",
              "        [0.5381],\n",
              "        [0.5247],\n",
              "        [0.5355],\n",
              "        [0.5184],\n",
              "        [0.5022],\n",
              "        [0.5153],\n",
              "        [0.5297]], grad_fn=<SigmoidBackward0>)"
            ]
          },
          "metadata": {},
          "execution_count": 27
        }
      ]
    },
    {
      "cell_type": "code",
      "source": [
        "# show model weights and bias\n",
        "model.network[0].bias, model.network[0].weight"
      ],
      "metadata": {
        "id": "Kf6yPbtBPvCD",
        "colab": {
          "base_uri": "https://localhost:8080/"
        },
        "outputId": "d1b617d3-97d4-4430-9cf1-e7474dc184ab"
      },
      "execution_count": 28,
      "outputs": [
        {
          "output_type": "execute_result",
          "data": {
            "text/plain": [
              "(Parameter containing:\n",
              " tensor([ 0.2023,  0.1237, -0.4132], requires_grad=True),\n",
              " Parameter containing:\n",
              " tensor([[-0.4385, -0.4203,  0.3925,  0.0482,  0.1326],\n",
              "         [-0.0457, -0.3041,  0.3619, -0.4437,  0.3956],\n",
              "         [-0.2954, -0.3619,  0.3667,  0.4067,  0.3430]], requires_grad=True))"
            ]
          },
          "metadata": {},
          "execution_count": 28
        }
      ]
    },
    {
      "cell_type": "code",
      "source": [
        "!pip install torchinfo"
      ],
      "metadata": {
        "colab": {
          "base_uri": "https://localhost:8080/"
        },
        "id": "qcER5vK3saCz",
        "outputId": "641b7039-a053-47b9-83d4-6a902d02bc40"
      },
      "execution_count": 29,
      "outputs": [
        {
          "output_type": "stream",
          "name": "stdout",
          "text": [
            "Requirement already satisfied: torchinfo in /usr/local/lib/python3.11/dist-packages (1.8.0)\n"
          ]
        }
      ]
    },
    {
      "cell_type": "code",
      "source": [
        "from torchinfo import summary\n",
        "\n",
        "summary(model, input_size=(10, 5))"
      ],
      "metadata": {
        "id": "ah9VjT_dxiJD",
        "colab": {
          "base_uri": "https://localhost:8080/"
        },
        "outputId": "97079cf8-1da4-4101-cd64-42935c9a1fde"
      },
      "execution_count": 30,
      "outputs": [
        {
          "output_type": "execute_result",
          "data": {
            "text/plain": [
              "==========================================================================================\n",
              "Layer (type:depth-idx)                   Output Shape              Param #\n",
              "==========================================================================================\n",
              "Model                                    [10, 1]                   --\n",
              "├─Sequential: 1-1                        [10, 1]                   --\n",
              "│    └─Linear: 2-1                       [10, 3]                   18\n",
              "│    └─ReLU: 2-2                         [10, 3]                   --\n",
              "│    └─Linear: 2-3                       [10, 1]                   4\n",
              "│    └─Sigmoid: 2-4                      [10, 1]                   --\n",
              "==========================================================================================\n",
              "Total params: 22\n",
              "Trainable params: 22\n",
              "Non-trainable params: 0\n",
              "Total mult-adds (Units.MEGABYTES): 0.00\n",
              "==========================================================================================\n",
              "Input size (MB): 0.00\n",
              "Forward/backward pass size (MB): 0.00\n",
              "Params size (MB): 0.00\n",
              "Estimated Total Size (MB): 0.00\n",
              "=========================================================================================="
            ]
          },
          "metadata": {},
          "execution_count": 30
        }
      ]
    },
    {
      "cell_type": "code",
      "source": [],
      "metadata": {
        "id": "7AbUHThPxpIc"
      },
      "execution_count": null,
      "outputs": []
    }
  ]
}